{
  "nbformat": 4,
  "nbformat_minor": 0,
  "metadata": {
    "colab": {
      "name": "fart.ipynb",
      "provenance": [],
      "collapsed_sections": [],
      "authorship_tag": "ABX9TyNl2b5WsunAVYa2vXWk8NHS",
      "include_colab_link": true
    },
    "kernelspec": {
      "name": "python3",
      "display_name": "Python 3"
    },
    "accelerator": "GPU"
  },
  "cells": [
    {
      "cell_type": "markdown",
      "metadata": {
        "id": "view-in-github",
        "colab_type": "text"
      },
      "source": [
        "<a href=\"https://colab.research.google.com/github/earlgorn/android-serialport-api/blob/master/fart.ipynb\" target=\"_parent\"><img src=\"https://colab.research.google.com/assets/colab-badge.svg\" alt=\"Open In Colab\"/></a>"
      ]
    },
    {
      "cell_type": "markdown",
      "metadata": {
        "id": "Wc9hvm-iRr2R",
        "colab_type": "text"
      },
      "source": [
        "i am going to try some Python code on colab. copied from http://prancer.physics.louisville.edu/astrowiki/index.php/NumPy,_SciPy_and_SciKits#Matrix_and_Vector_Math_in_NumPy\n",
        "\n",
        "\n",
        "\n"
      ]
    },
    {
      "cell_type": "code",
      "metadata": {
        "id": "hj9TTOQ1RJop",
        "colab_type": "code",
        "colab": {}
      },
      "source": [
        "# Import the plotting and math packages\n",
        "import matplotlib.pyplot as plt\n",
        "import numpy as np\n",
        "# Define initial constants\n",
        "f0 = 5.\n",
        "a0 = 100.\n",
        "tdecay = 2.\n",
        "timestep = 0.01\n",
        "timemax = 100.\n",
        "time = np.arange(0,timemax,timestep)\n",
        "amplitude = np.exp(-time/tdecay)*np.cos(2.*np.pi*f0*time)\n",
        "\n",
        "\n",
        "# Use an FFT to calculate its spectrum\n",
        "spectrum = np.fft.fft(amplitude)\n",
        "\n",
        "# Find the positive frequencies\n",
        "frequency = np.fft.fftfreq( spectrum.size, d = timestep )\n",
        "index = np.where(frequency >= 0.)\n",
        "\n",
        "# Scale the real part of the FFT and clip the data\n",
        "clipped_spectrum = timestep*spectrum[index].real\n",
        "clipped_frequency = frequency[index]\n",
        "\n",
        "# Create a figure\n",
        "fig = plt.figure()\n",
        "# Adjust white space between plots\n",
        "fig.subplots_adjust(hspace=0.5)\n",
        "# Create x-y plots of the amplitude and transform with labeled axes\n",
        "data1 = fig.add_subplot(2,1,1)\n",
        "plt.xlabel('Time')\n",
        "plt.ylabel('Amplitude')\n",
        "plt.title('Damping')\n",
        "data1.plot(time,amplitude, color='red', label='Amplitude')\n",
        "plt.legend()\n",
        "plt.minorticks_on()\n",
        "plt.xlim(0., 10.)\n",
        "data2 = fig.add_subplot(2,1,2)\n",
        "plt.xlabel('Frequency')\n",
        "plt.ylabel('Signal')\n",
        "plt.title('Spectrum of a Damped Oscillator')\n",
        "data2.plot(clipped_frequency,clipped_spectrum, color='blue', linestyle='solid', \n",
        " marker='None', label='FFT', linewidth=1.5)\n",
        "plt.legend()\n",
        "plt.minorticks_on()\n",
        "plt.xlim(3., 7.)\n",
        "# Show the data\n",
        "plt.show()"
      ],
      "execution_count": 0,
      "outputs": []
    }
  ]
}